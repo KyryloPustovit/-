{
  "nbformat": 4,
  "nbformat_minor": 0,
  "metadata": {
    "colab": {
      "provenance": []
    },
    "kernelspec": {
      "name": "python3",
      "display_name": "Python 3"
    },
    "language_info": {
      "name": "python"
    }
  },
  "cells": [
    {
      "cell_type": "code",
      "source": [
        "!pip install surprise"
      ],
      "metadata": {
        "colab": {
          "base_uri": "https://localhost:8080/"
        },
        "collapsed": true,
        "id": "Z2TrGWcH8Fuj",
        "outputId": "7df2da33-22e4-4997-b8a7-c0727e2733b3"
      },
      "execution_count": 3,
      "outputs": [
        {
          "output_type": "stream",
          "name": "stdout",
          "text": [
            "Collecting surprise\n",
            "  Downloading surprise-0.1-py2.py3-none-any.whl.metadata (327 bytes)\n",
            "Collecting scikit-surprise (from surprise)\n",
            "  Downloading scikit_surprise-1.1.4.tar.gz (154 kB)\n",
            "\u001b[?25l     \u001b[90m━━━━━━━━━━━━━━━━━━━━━━━━━━━━━━━━━━━━━━━━\u001b[0m \u001b[32m0.0/154.4 kB\u001b[0m \u001b[31m?\u001b[0m eta \u001b[36m-:--:--\u001b[0m\r\u001b[2K     \u001b[91m━━━━━━━━━━━━━━━━━━\u001b[0m\u001b[91m╸\u001b[0m\u001b[90m━━━━━━━━━━━━━━━━━━━━━\u001b[0m \u001b[32m71.7/154.4 kB\u001b[0m \u001b[31m2.5 MB/s\u001b[0m eta \u001b[36m0:00:01\u001b[0m\r\u001b[2K     \u001b[90m━━━━━━━━━━━━━━━━━━━━━━━━━━━━━━━━━━━━━━━━\u001b[0m \u001b[32m154.4/154.4 kB\u001b[0m \u001b[31m2.9 MB/s\u001b[0m eta \u001b[36m0:00:00\u001b[0m\n",
            "\u001b[?25h  Installing build dependencies ... \u001b[?25l\u001b[?25hdone\n",
            "  Getting requirements to build wheel ... \u001b[?25l\u001b[?25hdone\n",
            "  Preparing metadata (pyproject.toml) ... \u001b[?25l\u001b[?25hdone\n",
            "Requirement already satisfied: joblib>=1.2.0 in /usr/local/lib/python3.10/dist-packages (from scikit-surprise->surprise) (1.4.2)\n",
            "Requirement already satisfied: numpy>=1.19.5 in /usr/local/lib/python3.10/dist-packages (from scikit-surprise->surprise) (1.26.4)\n",
            "Requirement already satisfied: scipy>=1.6.0 in /usr/local/lib/python3.10/dist-packages (from scikit-surprise->surprise) (1.13.1)\n",
            "Downloading surprise-0.1-py2.py3-none-any.whl (1.8 kB)\n",
            "Building wheels for collected packages: scikit-surprise\n",
            "  Building wheel for scikit-surprise (pyproject.toml) ... \u001b[?25l\u001b[?25hdone\n",
            "  Created wheel for scikit-surprise: filename=scikit_surprise-1.1.4-cp310-cp310-linux_x86_64.whl size=2357273 sha256=79a05a98a28ef44f6d6836287f89977978155cc91a786772742f6db8234c28cc\n",
            "  Stored in directory: /root/.cache/pip/wheels/4b/3f/df/6acbf0a40397d9bf3ff97f582cc22fb9ce66adde75bc71fd54\n",
            "Successfully built scikit-surprise\n",
            "Installing collected packages: scikit-surprise, surprise\n",
            "Successfully installed scikit-surprise-1.1.4 surprise-0.1\n"
          ]
        }
      ]
    },
    {
      "cell_type": "code",
      "source": [
        "# 1. Завантажте датасет для рецензій (ml-100k) за допомогою бібліотеки Surprise.\n",
        "from surprise import Dataset\n",
        "\n",
        "# Завантаження датасету ML-100K\n",
        "data = Dataset.load_builtin('ml-100k')\n"
      ],
      "metadata": {
        "id": "Vs2R2tJP7JiA"
      },
      "execution_count": 10,
      "outputs": []
    },
    {
      "cell_type": "code",
      "execution_count": 11,
      "metadata": {
        "colab": {
          "base_uri": "https://localhost:8080/"
        },
        "id": "hqZc_V-q6iHG",
        "outputId": "aa69b350-6f8e-4a80-9379-8dcd8d64c54d"
      },
      "outputs": [
        {
          "output_type": "stream",
          "name": "stdout",
          "text": [
            "  user_id item_id  rating  timestamp\n",
            "0     196     242     3.0  881250949\n",
            "1     186     302     3.0  891717742\n",
            "2      22     377     1.0  878887116\n",
            "3     244      51     2.0  880606923\n",
            "4     166     346     1.0  886397596\n"
          ]
        }
      ],
      "source": [
        "# 2. Виведіть перші 5 рядків завантаженого датасету.\n",
        "import pandas as pd\n",
        "\n",
        "# Отримання даних у форматі DataFrame\n",
        "ratings = pd.DataFrame(data.raw_ratings, columns=['user_id', 'item_id', 'rating', 'timestamp'])\n",
        "print(ratings.head())\n"
      ]
    },
    {
      "cell_type": "code",
      "source": [
        "# 3. Реалізуйте два алгоритми для рекомендаційної системи на основі цього датасету. Можна вибрати будь-які алгоритми з бібліотеки Surprise.\n",
        "from surprise import KNNBasic, SVD\n",
        "from surprise.model_selection import train_test_split\n",
        "\n",
        "# Розділення даних на тренувальний і тестовий набори\n",
        "trainset, testset = train_test_split(data, test_size=0.2)\n",
        "\n",
        "# Визначення алгоритмів\n",
        "algo_knn = KNNBasic()\n",
        "algo_svd = SVD()\n",
        "\n",
        "# Навчання алгоритмів\n",
        "algo_knn.fit(trainset)\n",
        "algo_svd.fit(trainset)\n"
      ],
      "metadata": {
        "colab": {
          "base_uri": "https://localhost:8080/"
        },
        "id": "vsWZAXhC7JSn",
        "outputId": "a9dbf39f-488b-450d-d74d-d8bb2b24eae6"
      },
      "execution_count": 12,
      "outputs": [
        {
          "output_type": "stream",
          "name": "stdout",
          "text": [
            "Computing the msd similarity matrix...\n",
            "Done computing similarity matrix.\n"
          ]
        },
        {
          "output_type": "execute_result",
          "data": {
            "text/plain": [
              "<surprise.prediction_algorithms.matrix_factorization.SVD at 0x7ba103e88d30>"
            ]
          },
          "metadata": {},
          "execution_count": 12
        }
      ]
    },
    {
      "cell_type": "code",
      "source": [
        "# 4. Використайте крос-валідацію для підбору оптимальних параметрів для обох алгоритмів.\n",
        "from surprise.model_selection import cross_validate\n",
        "\n",
        "# Крос-валідація для KNN\n",
        "results_knn = cross_validate(algo_knn, data, measures=['MAE'], cv=5, verbose=True)\n",
        "\n",
        "# Крос-валідація для SVD\n",
        "results_svd = cross_validate(algo_svd, data, measures=['MAE'], cv=5, verbose=True)\n"
      ],
      "metadata": {
        "colab": {
          "base_uri": "https://localhost:8080/"
        },
        "id": "Zh1_sVmH7JOx",
        "outputId": "06e558a3-1597-440c-8c1f-0ed6ce156b5b"
      },
      "execution_count": 13,
      "outputs": [
        {
          "output_type": "stream",
          "name": "stdout",
          "text": [
            "Computing the msd similarity matrix...\n",
            "Done computing similarity matrix.\n",
            "Computing the msd similarity matrix...\n",
            "Done computing similarity matrix.\n",
            "Computing the msd similarity matrix...\n",
            "Done computing similarity matrix.\n",
            "Computing the msd similarity matrix...\n",
            "Done computing similarity matrix.\n",
            "Computing the msd similarity matrix...\n",
            "Done computing similarity matrix.\n",
            "Evaluating MAE of algorithm KNNBasic on 5 split(s).\n",
            "\n",
            "                  Fold 1  Fold 2  Fold 3  Fold 4  Fold 5  Mean    Std     \n",
            "MAE (testset)     0.7705  0.7686  0.7714  0.7768  0.7764  0.7728  0.0033  \n",
            "Fit time          0.31    0.34    0.35    0.34    0.36    0.34    0.02    \n",
            "Test time         4.19    3.89    3.18    4.30    3.27    3.77    0.46    \n",
            "Evaluating MAE of algorithm SVD on 5 split(s).\n",
            "\n",
            "                  Fold 1  Fold 2  Fold 3  Fold 4  Fold 5  Mean    Std     \n",
            "MAE (testset)     0.7421  0.7334  0.7343  0.7370  0.7446  0.7383  0.0044  \n",
            "Fit time          1.39    1.44    1.42    1.97    1.70    1.58    0.23    \n",
            "Test time         0.11    0.30    0.16    0.20    0.25    0.21    0.07    \n"
          ]
        }
      ]
    },
    {
      "cell_type": "code",
      "source": [
        "mean_mae_knn = results_knn['test_mae'].mean()\n",
        "mean_mae_svd = results_svd['test_mae'].mean()\n",
        "\n",
        "print(f\"Середня MAE для KNN: {mean_mae_knn}\")\n",
        "print(f\"Середня MAE для SVD: {mean_mae_svd}\")\n",
        "\n",
        "best_algo = \"KNN\" if mean_mae_knn < mean_mae_svd else \"SVD\"\n",
        "print(f\"Найкращий алгоритм: {best_algo}\")\n"
      ],
      "metadata": {
        "colab": {
          "base_uri": "https://localhost:8080/"
        },
        "id": "OWpKPLTG7JLm",
        "outputId": "10ef57b3-0d17-4997-abf5-7c22aaba976e"
      },
      "execution_count": 14,
      "outputs": [
        {
          "output_type": "stream",
          "name": "stdout",
          "text": [
            "Середня MAE для KNN: 0.7727518696169297\n",
            "Середня MAE для SVD: 0.7382743831365934\n",
            "Найкращий алгоритм: SVD\n"
          ]
        }
      ]
    },
    {
      "cell_type": "code",
      "source": [
        "# Вибір алгоритму для рекомендацій\n",
        "selected_algo = algo_knn if best_algo == \"KNN\" else algo_svd\n",
        "\n",
        "# Отримання рекомендацій\n",
        "user_id = '196'\n",
        "item_ids = trainset.all_items()\n",
        "recommendations = [(item_id, selected_algo.predict(user_id, item_id).est) for item_id in item_ids]\n",
        "recommendations.sort(key=lambda x: x[1], reverse=True)\n",
        "\n",
        "# Виведення 10 найкращих рекомендацій\n",
        "top_10 = recommendations[:10]\n",
        "print(\"Рекомендовані фільми:\", top_10)\n"
      ],
      "metadata": {
        "colab": {
          "base_uri": "https://localhost:8080/"
        },
        "id": "5NYU_5Xn-aYC",
        "outputId": "6588e990-1c27-4490-d932-354a891ca56d"
      },
      "execution_count": 24,
      "outputs": [
        {
          "output_type": "stream",
          "name": "stdout",
          "text": [
            "Рекомендовані фільми: [(0, 3.538414330855143), (1, 3.538414330855143), (2, 3.538414330855143), (3, 3.538414330855143), (4, 3.538414330855143), (5, 3.538414330855143), (6, 3.538414330855143), (7, 3.538414330855143), (8, 3.538414330855143), (9, 3.538414330855143)]\n"
          ]
        }
      ]
    },
    {
      "cell_type": "code",
      "source": [
        "from surprise import Reader\n",
        "\n",
        "# Читач даних\n",
        "reader = Reader(rating_scale=(1, 5))\n",
        "data_custom = Dataset.load_from_df(ratings[['user_id', 'item_id', 'rating']], reader)\n",
        "\n",
        "# Створення та навчання моделі\n",
        "trainset_custom = data_custom.build_full_trainset()\n",
        "algo_custom = SVD()\n",
        "algo_custom.fit(trainset_custom)\n"
      ],
      "metadata": {
        "colab": {
          "base_uri": "https://localhost:8080/"
        },
        "id": "gJXARYK4-aU7",
        "outputId": "95507d19-76ed-4d3b-e4df-6f9fbfd7c573"
      },
      "execution_count": 16,
      "outputs": [
        {
          "output_type": "execute_result",
          "data": {
            "text/plain": [
              "<surprise.prediction_algorithms.matrix_factorization.SVD at 0x7ba0de8a1c00>"
            ]
          },
          "metadata": {},
          "execution_count": 16
        }
      ]
    },
    {
      "cell_type": "code",
      "source": [
        "# 6. Виведи рекомендації (10 фільмів) для конкретного користувача.\n",
        "# Оцінка моделі\n",
        "testset_custom = trainset_custom.build_anti_testset()\n",
        "predictions = algo_custom.test(testset_custom)\n",
        "\n",
        "# Отримання рекомендації для користувача\n",
        "user_id_custom = '196'\n",
        "recommendations_custom = [(pred.iid, pred.est) for pred in predictions if pred.uid == user_id_custom]\n",
        "recommendations_custom.sort(key=lambda x: x[1], reverse=True)\n",
        "\n",
        "# Виведення 10 найкращих рекомендацій\n",
        "top_10_custom = recommendations_custom[:10]\n",
        "print(\"Рекомендації для користувача:\", top_10_custom)\n"
      ],
      "metadata": {
        "colab": {
          "base_uri": "https://localhost:8080/"
        },
        "id": "LhPu_gjJ-aR9",
        "outputId": "51c1b047-1afc-4eaa-df2a-41b8f79865f8"
      },
      "execution_count": 23,
      "outputs": [
        {
          "output_type": "stream",
          "name": "stdout",
          "text": [
            "Рекомендації для користувача: [('169', 4.688654296561971), ('483', 4.602161847912318), ('408', 4.521920388510804), ('923', 4.443235805313929), ('272', 4.424896565747315), ('100', 4.421809182148573), ('98', 4.402302791971666), ('657', 4.372525535201296), ('963', 4.372409425462389), ('189', 4.361459828479179)]\n"
          ]
        }
      ]
    },
    {
      "cell_type": "markdown",
      "source": [
        "Висновок: Лабораторна робота продемонструвала важливість рекомендаційних систем у сучасному світі та їхню здатність адаптуватися до індивідуальних уподобань користувачів. Вивчені методи та алгоритми можуть бути використані для подальших досліджень і практичного застосування в різних галузях, таких як електронна комерція, медіа та соціальні мережі."
      ],
      "metadata": {
        "id": "d17rGsYs9h5S"
      }
    },
    {
      "cell_type": "code",
      "source": [],
      "metadata": {
        "id": "CzVPCYas7JEk"
      },
      "execution_count": null,
      "outputs": []
    },
    {
      "cell_type": "code",
      "source": [],
      "metadata": {
        "id": "hG7sQqDJ7JBl"
      },
      "execution_count": null,
      "outputs": []
    },
    {
      "cell_type": "code",
      "source": [],
      "metadata": {
        "id": "HaGew9Qq7I-o"
      },
      "execution_count": null,
      "outputs": []
    },
    {
      "cell_type": "code",
      "source": [],
      "metadata": {
        "id": "8PHkv6fU7I7g"
      },
      "execution_count": null,
      "outputs": []
    },
    {
      "cell_type": "code",
      "source": [],
      "metadata": {
        "id": "3hufLnLi7I4Z"
      },
      "execution_count": null,
      "outputs": []
    },
    {
      "cell_type": "code",
      "source": [],
      "metadata": {
        "id": "LBFZUv1c7I1S"
      },
      "execution_count": null,
      "outputs": []
    },
    {
      "cell_type": "code",
      "source": [],
      "metadata": {
        "id": "KIAhuZ707IyR"
      },
      "execution_count": null,
      "outputs": []
    },
    {
      "cell_type": "code",
      "source": [],
      "metadata": {
        "id": "gXbGw_ML7IvW"
      },
      "execution_count": null,
      "outputs": []
    },
    {
      "cell_type": "code",
      "source": [],
      "metadata": {
        "id": "74ELM4QE7IsL"
      },
      "execution_count": null,
      "outputs": []
    },
    {
      "cell_type": "code",
      "source": [],
      "metadata": {
        "id": "_4z_s82F7Io_"
      },
      "execution_count": null,
      "outputs": []
    }
  ]
}