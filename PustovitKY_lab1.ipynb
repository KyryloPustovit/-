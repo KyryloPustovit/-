{
  "metadata": {
    "kernelspec": {
      "name": "python",
      "display_name": "Python (Pyodide)",
      "language": "python"
    },
    "language_info": {
      "codemirror_mode": {
        "name": "python",
        "version": 3
      },
      "file_extension": ".py",
      "mimetype": "text/x-python",
      "name": "python",
      "nbconvert_exporter": "python",
      "pygments_lexer": "ipython3",
      "version": "3.8"
    }
  },
  "nbformat_minor": 5,
  "nbformat": 4,
  "cells": [
    {
      "id": "9a70d99e-0206-46d6-a520-f5d5059eb8fd",
      "cell_type": "code",
      "source": "# Pustovit_pr_номер.ipynb\n\nimport numpy as np\n\n# Завдання 1\n# Створіть одновимірний масив (вектор) з сумами добутків двох попередніх чисел та їхнього суми, починаючи з 1\nvector_1 = [1]\nfor i in range(1, 10):\n    value = vector_1[i-1] + vector_1[i-1] * (vector_1[i-1] + 1)\n    vector_1.append(value)\nvector_1 = np.array(vector_1)\nprint(\"Завдання 1:\", vector_1)\n\n# Завдання 2\n# Створіть двовимірний масив (матрицю) розміром 3x3, заповніть його випадковими цілими числами від -10 до 10\nmatrix_2 = np.random.randint(-10, 11, (3, 3))\nprint(\"Завдання 2:\\n\", matrix_2)\n\n# Завдання 3\n# Створіть масив 5x5, заповніть його випадковими дійсними числами від 0 до 1 та знайдіть відсоток чисел, які є простими\nmatrix_3 = np.random.rand(5, 5)\nis_prime = np.vectorize(lambda x: all(x % i != 0 for i in range(2, int(np.sqrt(x)) + 1)) if x > 1 else False)\nscaled_matrix = (matrix_3 * 100).astype(int)\nprime_flags = is_prime(scaled_matrix)\nprime_percentage = np.mean(prime_flags) * 100\nprint(\"Завдання 3: Відсоток простих чисел:\", prime_percentage, \"%\")\n\n# Завдання 4\n# Створіть масив 3x3, заповніть його випадковими дійсними числами в діапазоні від -1.1 до 1.1 та виведіть його значення\nmatrix_4 = np.random.uniform(-1.1, 1.1, (3, 3))\nprint(\"Завдання 4:\\n\", matrix_4)\n\n# Завдання 5\n# Створіть два одновимірних масиви розміром 4, заповніть їх випадковими цілими числами в діапазоні від 15 до 25 та виконайте поелементні операції\narray_5_1 = np.random.randint(15, 26, 4)\narray_5_2 = np.random.randint(15, 26, 4)\nsum_arrays = array_5_1 + array_5_2\ndiff_arrays = array_5_1 - array_5_2\nmult_arrays = array_5_1 * array_5_2\nprint(\"Завдання 5:\\nСума:\", sum_arrays, \"\\nРізниця:\", diff_arrays, \"\\nДобуток:\", mult_arrays)\n\n# Завдання 6\n# Створіть дві матриці 3x3, заповніть їх цілими числами від 1 до 10 та знайдіть їх добуток\nmatrix_6_1 = np.random.randint(1, 11, (3, 3))\nmatrix_6_2 = np.random.randint(1, 11, (3, 3))\nmatrix_mult = np.dot(matrix_6_1, matrix_6_2)\nprint(\"Завдання 6:\\n\", matrix_mult)\n\n# Завдання 7\n# Створіть дві матриці 2x3 та 3x3, заповніть їх випадковими цілими числами від 1 до 5 та перемножте їх\nmatrix_7_1 = np.random.randint(1, 6, (2, 3))\nmatrix_7_2 = np.random.randint(1, 6, (3, 3))\nmatrix_7_mult = np.dot(matrix_7_1, matrix_7_2)\nprint(\"Завдання 7:\\n\", matrix_7_mult)\n\n# Завдання 8\n# Створіть матрицю 2x2, заповніть її цілими числами від 1 до 7 та знайдіть її обернену\nmatrix_8 = np.random.randint(1, 8, (2, 2))\ninverse_matrix = np.linalg.inv(matrix_8)\nprint(\"Завдання 8:\\n\", inverse_matrix)\n\n# Завдання 9\n# Створіть матрицю 3x3, заповніть її дійсними числами в діапазоні від 5 до 10 та транспонуйте її\nmatrix_9 = np.random.uniform(5, 10, (3, 3))\ntransposed_matrix = matrix_9.T\nprint(\"Завдання 9:\\n\", transposed_matrix)\n\n# Завдання 10\n# Створіть матрицю 3x4 та вектор 4x1, заповніть їх випадковими дійсними числами від 0 до 1, та знайдіть добуток\nmatrix_10 = np.random.rand(3, 4)\nvector_10 = np.random.rand(4, 1)\nmatrix_vector_mult = np.dot(matrix_10, vector_10)\nprint(\"Завдання 10:\\n\", matrix_vector_mult)\n\n# Завдання 11\n# Створіть матрицю 2x3 та вектор 3x1, заповніть їх випадковими цілими числами в діапазоні від 1 до 10 та знайдіть добуток\nmatrix_11 = np.random.randint(1, 11, (2, 3))\nvector_11 = np.random.randint(1, 11, (3, 1))\nmatrix_vector_mult_11 = np.dot(matrix_11, vector_11)\nprint(\"Завдання 11:\\n\", matrix_vector_mult_11)\n\n# Завдання 12\n# Створіть дві матриці 2x2, заповніть їх цілими числами від -2 до 2 та знайдіть суму всіх елементів обох матриць\nmatrix_12_1 = np.random.randint(-2, 3, (2, 2))\nmatrix_12_2 = np.random.randint(-2, 3, (2, 2))\nsum_matrices = np.sum(matrix_12_1) + np.sum(matrix_12_2)\nprint(\"Завдання 12: Сума елементів:\", sum_matrices)\n\n# Завдання 13\n# Створіть дві матриці 3x3, заповніть їх дійсними числами в діапазоні від 0 до 1 та знайдіть суму їх елементів\nmatrix_13_1 = np.random.rand(3, 3)\nmatrix_13_2 = np.random.rand(3, 3)\nsum_elements = np.sum(matrix_13_1) + np.sum(matrix_13_2)\nprint(\"Завдання 13: Сума елементів:\", sum_elements)\n\n# Завдання 14\n# Створіть матрицю 3x3, заповніть її цілими числами від 1 до 10 та знайдіть середнє значення елементів на головній діагоналі\nmatrix_14 = np.random.randint(1, 11, (3, 3))\ndiagonal_avg = np.mean(np.diag(matrix_14))\nprint(\"Завдання 14: Середнє значення на діагоналі:\", diagonal_avg)\n\n# Завдання 15\n# Створіть матрицю 3x3, заповніть її дійсними числами від 0 до 1 та знайдіть вектор-стовпчик, що містить найбільший елемент у кожному стовпці\nmatrix_15 = np.random.rand(3, 3)\nmax_in_columns = np.max(matrix_15, axis=0)\nprint(\"Завдання 15: Вектор-стовпчик з максимальними елементами:\", max_in_columns)\n",
      "metadata": {
        "trusted": true
      },
      "outputs": [
        {
          "name": "stdout",
          "text": "Завдання 1: [1 3 15 255 65535 4294967295 18446744073709551615\n 340282366920938463463374607431768211455\n 115792089237316195423570985008687907853269984665640564039457584007913129639935\n 13407807929942597099574024998205846127479365820592393377723561443721764030073546976801874298166903427690031858186486050853753882811946569946433649006084095]\nЗавдання 2:\n [[-10  -2  -7]\n [  0   9   5]\n [  5  -7   6]]\nЗавдання 3: Відсоток простих чисел: 36.0 %\nЗавдання 4:\n [[-0.80438312 -0.69132228  0.27126374]\n [ 0.82731637  1.07286438  0.78897451]\n [ 1.06984986 -0.68389237 -0.65167499]]\nЗавдання 5:\nСума: [35 35 44 34] \nРізниця: [ 1 -3 -2 -2] \nДобуток: [306 304 483 288]\nЗавдання 6:\n [[ 62  34  96]\n [118  56 168]\n [ 90  63 118]]\nЗавдання 7:\n [[11 31 19]\n [ 8 16 10]]\nЗавдання 8:\n [[-0.33333333  0.22222222]\n [ 0.33333333 -0.05555556]]\nЗавдання 9:\n [[8.61754107 6.28914978 9.67828575]\n [9.27153059 9.80429949 9.55531123]\n [7.00144733 8.76159897 8.88924323]]\nЗавдання 10:\n [[0.63443693]\n [0.84183475]\n [0.44353355]]\nЗавдання 11:\n [[50]\n [99]]\nЗавдання 12: Сума елементів: 1\nЗавдання 13: Сума елементів: 11.039454482415472\nЗавдання 14: Середнє значення на діагоналі: 5.333333333333333\nЗавдання 15: Вектор-стовпчик з максимальними елементами: [0.53693604 0.76713173 0.42622719]\n",
          "output_type": "stream"
        }
      ],
      "execution_count": 2
    }
  ]
}